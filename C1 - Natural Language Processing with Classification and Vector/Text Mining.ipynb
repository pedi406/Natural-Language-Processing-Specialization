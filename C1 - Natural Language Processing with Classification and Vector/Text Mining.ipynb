{
 "cells": [
  {
   "cell_type": "markdown",
   "id": "ee7e88d7",
   "metadata": {},
   "source": [
    "Handling text in python"
   ]
  },
  {
   "cell_type": "code",
   "execution_count": 9,
   "id": "01db7023",
   "metadata": {},
   "outputs": [],
   "source": [
    "txt = \"Ethics are built right into the ideals and objectives of the United Nations\"\n"
   ]
  },
  {
   "cell_type": "code",
   "execution_count": 10,
   "id": "1c5f1c80",
   "metadata": {},
   "outputs": [
    {
     "data": {
      "text/plain": [
       "75"
      ]
     },
     "execution_count": 10,
     "metadata": {},
     "output_type": "execute_result"
    }
   ],
   "source": [
    "len(txt)"
   ]
  },
  {
   "cell_type": "code",
   "execution_count": 11,
   "id": "2b0384e5",
   "metadata": {},
   "outputs": [
    {
     "data": {
      "text/plain": [
       "13"
      ]
     },
     "execution_count": 11,
     "metadata": {},
     "output_type": "execute_result"
    }
   ],
   "source": [
    "txt1 = txt.split(' ')\n",
    "len(txt1)"
   ]
  },
  {
   "cell_type": "code",
   "execution_count": 12,
   "id": "f28ccc95",
   "metadata": {},
   "outputs": [
    {
     "data": {
      "text/plain": [
       "['Ethics',\n",
       " 'are',\n",
       " 'built',\n",
       " 'right',\n",
       " 'into',\n",
       " 'the',\n",
       " 'ideals',\n",
       " 'and',\n",
       " 'objectives',\n",
       " 'of',\n",
       " 'the',\n",
       " 'United',\n",
       " 'Nations']"
      ]
     },
     "execution_count": 12,
     "metadata": {},
     "output_type": "execute_result"
    }
   ],
   "source": [
    "txt1"
   ]
  },
  {
   "cell_type": "markdown",
   "id": "ebf1a38c",
   "metadata": {},
   "source": [
    "Finding specfic words\n"
   ]
  },
  {
   "cell_type": "code",
   "execution_count": 14,
   "id": "a8bd5581",
   "metadata": {},
   "outputs": [
    {
     "data": {
      "text/plain": [
       "['Ethics',\n",
       " 'built',\n",
       " 'right',\n",
       " 'into',\n",
       " 'ideals',\n",
       " 'objectives',\n",
       " 'United',\n",
       " 'Nations']"
      ]
     },
     "execution_count": 14,
     "metadata": {},
     "output_type": "execute_result"
    }
   ],
   "source": [
    "#long words: words that are more than 3 letters long\n",
    "[w for w in txt1 if len(w)>3]"
   ]
  },
  {
   "cell_type": "code",
   "execution_count": 16,
   "id": "e8eaec7e",
   "metadata": {},
   "outputs": [
    {
     "data": {
      "text/plain": [
       "['Ethics', 'United', 'Nations']"
      ]
     },
     "execution_count": 16,
     "metadata": {},
     "output_type": "execute_result"
    }
   ],
   "source": [
    "#capitalized words\n",
    "[w for w in txt1 if w.istitle()]"
   ]
  },
  {
   "cell_type": "code",
   "execution_count": 17,
   "id": "6de6b80c",
   "metadata": {},
   "outputs": [
    {
     "data": {
      "text/plain": [
       "['Ethics', 'ideals', 'objectives', 'Nations']"
      ]
     },
     "execution_count": 17,
     "metadata": {},
     "output_type": "execute_result"
    }
   ],
   "source": [
    "#words that end with s\n",
    "[w for w in txt1 if w.endswith('s')]"
   ]
  },
  {
   "cell_type": "markdown",
   "id": "e99ea9d6",
   "metadata": {},
   "source": [
    "finding unique words: using set()"
   ]
  },
  {
   "cell_type": "code",
   "execution_count": 20,
   "id": "732e069a",
   "metadata": {},
   "outputs": [
    {
     "data": {
      "text/plain": [
       "6"
      ]
     },
     "execution_count": 20,
     "metadata": {},
     "output_type": "execute_result"
    }
   ],
   "source": [
    "text3 = 'To be or not to be'\n",
    "text4= text3.split(' ')\n",
    "len(text4)"
   ]
  },
  {
   "cell_type": "code",
   "execution_count": 21,
   "id": "9b8c60c7",
   "metadata": {},
   "outputs": [
    {
     "data": {
      "text/plain": [
       "5"
      ]
     },
     "execution_count": 21,
     "metadata": {},
     "output_type": "execute_result"
    }
   ],
   "source": [
    "len(set(text4))"
   ]
  },
  {
   "cell_type": "code",
   "execution_count": 22,
   "id": "b3abb630",
   "metadata": {},
   "outputs": [
    {
     "data": {
      "text/plain": [
       "{'To', 'be', 'not', 'or', 'to'}"
      ]
     },
     "execution_count": 22,
     "metadata": {},
     "output_type": "execute_result"
    }
   ],
   "source": [
    "set(text4)"
   ]
  },
  {
   "cell_type": "code",
   "execution_count": 24,
   "id": "00433f60",
   "metadata": {},
   "outputs": [
    {
     "data": {
      "text/plain": [
       "4"
      ]
     },
     "execution_count": 24,
     "metadata": {},
     "output_type": "execute_result"
    }
   ],
   "source": [
    "len(set([w.lower() for w in text4]))"
   ]
  },
  {
   "cell_type": "code",
   "execution_count": 26,
   "id": "3c3f32a1",
   "metadata": {},
   "outputs": [
    {
     "data": {
      "text/plain": [
       "{'be', 'not', 'or', 'to'}"
      ]
     },
     "execution_count": 26,
     "metadata": {},
     "output_type": "execute_result"
    }
   ],
   "source": [
    "set([w.lower() for w in text4])"
   ]
  },
  {
   "cell_type": "markdown",
   "id": "7923f54d",
   "metadata": {},
   "source": [
    "Word comparison functions"
   ]
  },
  {
   "cell_type": "code",
   "execution_count": 27,
   "id": "c6ea065e",
   "metadata": {},
   "outputs": [],
   "source": [
    "# s.startswith(t)\n",
    "# s.endswith(t)\n",
    "# t in s\n",
    "# s.isupper(); s.islower(); s.istitle()\n",
    "# s.isalpha(); s.isdigit(); s.isalnum()"
   ]
  },
  {
   "cell_type": "markdown",
   "id": "93259728",
   "metadata": {},
   "source": [
    "String operations"
   ]
  },
  {
   "cell_type": "code",
   "execution_count": 28,
   "id": "9c5c2a8a",
   "metadata": {},
   "outputs": [],
   "source": [
    "# s.lower(), s.upper(), s.titlecase()\n",
    "# s.split()\n",
    "# s.splitlines()\n",
    "# s.join()\n",
    "# s.strip(); s.rstrip()\n",
    "# s.find(t); s.rfind(t)\n",
    "# s.replace(u,v)"
   ]
  },
  {
   "cell_type": "markdown",
   "id": "fbe90d0d",
   "metadata": {},
   "source": [
    "From words to characters"
   ]
  },
  {
   "cell_type": "code",
   "execution_count": 30,
   "id": "2420bf9a",
   "metadata": {},
   "outputs": [
    {
     "data": {
      "text/plain": [
       "['', 'agad', 'g', '']"
      ]
     },
     "execution_count": 30,
     "metadata": {},
     "output_type": "execute_result"
    }
   ],
   "source": [
    "text5 = 'ouagadougou'\n",
    "text6 = text5.split('ou')\n",
    "text6"
   ]
  },
  {
   "cell_type": "code",
   "execution_count": 31,
   "id": "85add6ad",
   "metadata": {},
   "outputs": [
    {
     "data": {
      "text/plain": [
       "'ouagadougou'"
      ]
     },
     "execution_count": 31,
     "metadata": {},
     "output_type": "execute_result"
    }
   ],
   "source": [
    "'ou'.join(text6)"
   ]
  },
  {
   "cell_type": "code",
   "execution_count": 33,
   "id": "1bb9ab09",
   "metadata": {},
   "outputs": [
    {
     "ename": "ValueError",
     "evalue": "empty separator",
     "output_type": "error",
     "traceback": [
      "\u001b[1;31m---------------------------------------------------------------------------\u001b[0m",
      "\u001b[1;31mValueError\u001b[0m                                Traceback (most recent call last)",
      "Input \u001b[1;32mIn [33]\u001b[0m, in \u001b[0;36m<cell line: 1>\u001b[1;34m()\u001b[0m\n\u001b[1;32m----> 1\u001b[0m \u001b[43mtext5\u001b[49m\u001b[38;5;241;43m.\u001b[39;49m\u001b[43msplit\u001b[49m\u001b[43m(\u001b[49m\u001b[38;5;124;43m'\u001b[39;49m\u001b[38;5;124;43m'\u001b[39;49m\u001b[43m)\u001b[49m\n",
      "\u001b[1;31mValueError\u001b[0m: empty separator"
     ]
    }
   ],
   "source": [
    "text5.split('') # it doesn't work but 'text5.split(' ')' will work"
   ]
  },
  {
   "cell_type": "code",
   "execution_count": 34,
   "id": "537d0c24",
   "metadata": {},
   "outputs": [
    {
     "data": {
      "text/plain": [
       "['o', 'u', 'a', 'g', 'a', 'd', 'o', 'u', 'g', 'o', 'u']"
      ]
     },
     "execution_count": 34,
     "metadata": {},
     "output_type": "execute_result"
    }
   ],
   "source": [
    "list(text5)"
   ]
  },
  {
   "cell_type": "code",
   "execution_count": 35,
   "id": "a0fa0840",
   "metadata": {},
   "outputs": [
    {
     "data": {
      "text/plain": [
       "['o', 'u', 'a', 'g', 'a', 'd', 'o', 'u', 'g', 'o', 'u']"
      ]
     },
     "execution_count": 35,
     "metadata": {},
     "output_type": "execute_result"
    }
   ],
   "source": [
    "[c for c in text5]"
   ]
  },
  {
   "cell_type": "markdown",
   "id": "e76cea48",
   "metadata": {},
   "source": [
    "Cleaning text"
   ]
  },
  {
   "cell_type": "code",
   "execution_count": 37,
   "id": "167cfd54",
   "metadata": {},
   "outputs": [
    {
     "data": {
      "text/plain": [
       "['A', 'quick', 'brown', 'for', 'jumped', 'over', 'the', 'lazy', 'dog.']"
      ]
     },
     "execution_count": 37,
     "metadata": {},
     "output_type": "execute_result"
    }
   ],
   "source": [
    "text8 = 'A quick brown for jumped over the lazy dog.'\n",
    "text8.split(' ')"
   ]
  },
  {
   "cell_type": "code",
   "execution_count": 42,
   "id": "bcbd593f",
   "metadata": {},
   "outputs": [
    {
     "data": {
      "text/plain": [
       "'A quick brown for jumped over the lazy dog.'"
      ]
     },
     "execution_count": 42,
     "metadata": {},
     "output_type": "execute_result"
    }
   ],
   "source": [
    "text9 = text8.strip()\n",
    "text9"
   ]
  },
  {
   "cell_type": "code",
   "execution_count": 43,
   "id": "adf3f44e",
   "metadata": {},
   "outputs": [
    {
     "data": {
      "text/plain": [
       "['A', 'quick', 'brown', 'for', 'jumped', 'over', 'the', 'lazy', 'dog.']"
      ]
     },
     "execution_count": 43,
     "metadata": {},
     "output_type": "execute_result"
    }
   ],
   "source": [
    "text9.split(' ')"
   ]
  },
  {
   "cell_type": "code",
   "execution_count": 48,
   "id": "56eebace",
   "metadata": {},
   "outputs": [
    {
     "data": {
      "text/plain": [
       "10"
      ]
     },
     "execution_count": 48,
     "metadata": {},
     "output_type": "execute_result"
    }
   ],
   "source": [
    "#find and replace\n",
    "text9.find('o')"
   ]
  },
  {
   "cell_type": "code",
   "execution_count": 46,
   "id": "ce7b4a1f",
   "metadata": {},
   "outputs": [
    {
     "data": {
      "text/plain": [
       "40"
      ]
     },
     "execution_count": 46,
     "metadata": {},
     "output_type": "execute_result"
    }
   ],
   "source": [
    "text9.rfind('o')"
   ]
  },
  {
   "cell_type": "code",
   "execution_count": 47,
   "id": "44879e89",
   "metadata": {},
   "outputs": [
    {
     "data": {
      "text/plain": [
       "'A quick brOwn fOr jumped Over the lazy dOg.'"
      ]
     },
     "execution_count": 47,
     "metadata": {},
     "output_type": "execute_result"
    }
   ],
   "source": [
    "text9.replace('o', 'O')"
   ]
  },
  {
   "cell_type": "markdown",
   "id": "7c077896",
   "metadata": {},
   "source": [
    "Handling larger texts"
   ]
  },
  {
   "cell_type": "code",
   "execution_count": null,
   "id": "c18890cc",
   "metadata": {},
   "outputs": [],
   "source": [
    "f = open('UNDHR.txt', 'r')\n",
    "f.readline() # reading files line by line"
   ]
  },
  {
   "cell_type": "code",
   "execution_count": null,
   "id": "52f2dc1b",
   "metadata": {},
   "outputs": [],
   "source": [
    "#reading the full file\n",
    "f.seek(0)\n",
    "text12 = f.read()\n",
    "len(text12)"
   ]
  },
  {
   "cell_type": "code",
   "execution_count": null,
   "id": "6fb6bf69",
   "metadata": {},
   "outputs": [],
   "source": [
    "text13 = text12.aplitlines()\n",
    "len(text13)"
   ]
  },
  {
   "cell_type": "code",
   "execution_count": null,
   "id": "ffe0fc9c",
   "metadata": {},
   "outputs": [],
   "source": [
    "text13[0]"
   ]
  },
  {
   "cell_type": "markdown",
   "id": "6386f411",
   "metadata": {},
   "source": [
    "File operations"
   ]
  },
  {
   "cell_type": "code",
   "execution_count": 49,
   "id": "060400bb",
   "metadata": {},
   "outputs": [],
   "source": [
    "# f = open(filename, mode)\n",
    "# f.readline(); f.read(); f.read(n)\n",
    "# for line in f: doSomething(line)\n",
    "# f.seek(n)\n",
    "# f.write(message)\n",
    "# f.close()\n",
    "# f.closed"
   ]
  },
  {
   "cell_type": "code",
   "execution_count": null,
   "id": "b37224c9",
   "metadata": {},
   "outputs": [],
   "source": []
  },
  {
   "cell_type": "code",
   "execution_count": null,
   "id": "9cfa6359",
   "metadata": {},
   "outputs": [],
   "source": []
  },
  {
   "cell_type": "code",
   "execution_count": null,
   "id": "bc7d9822",
   "metadata": {},
   "outputs": [],
   "source": []
  },
  {
   "cell_type": "code",
   "execution_count": null,
   "id": "9938c8e7",
   "metadata": {},
   "outputs": [],
   "source": []
  },
  {
   "cell_type": "code",
   "execution_count": null,
   "id": "319198bf",
   "metadata": {},
   "outputs": [],
   "source": []
  },
  {
   "cell_type": "code",
   "execution_count": null,
   "id": "4db6c3a0",
   "metadata": {},
   "outputs": [],
   "source": []
  },
  {
   "cell_type": "code",
   "execution_count": null,
   "id": "13e68032",
   "metadata": {},
   "outputs": [],
   "source": []
  }
 ],
 "metadata": {
  "kernelspec": {
   "display_name": "Python 3 (ipykernel)",
   "language": "python",
   "name": "python3"
  },
  "language_info": {
   "codemirror_mode": {
    "name": "ipython",
    "version": 3
   },
   "file_extension": ".py",
   "mimetype": "text/x-python",
   "name": "python",
   "nbconvert_exporter": "python",
   "pygments_lexer": "ipython3",
   "version": "3.9.12"
  }
 },
 "nbformat": 4,
 "nbformat_minor": 5
}
